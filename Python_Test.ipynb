{
  "nbformat": 4,
  "nbformat_minor": 0,
  "metadata": {
    "colab": {
      "name": "Python_Test.ipynb",
      "provenance": [],
      "collapsed_sections": [],
      "include_colab_link": true
    },
    "kernelspec": {
      "name": "python3",
      "display_name": "Python 3"
    }
  },
  "cells": [
    {
      "cell_type": "markdown",
      "metadata": {
        "id": "view-in-github",
        "colab_type": "text"
      },
      "source": [
        "<a href=\"https://colab.research.google.com/github/jngrekta/interactive-coding-challenges/blob/master/Python_Test.ipynb\" target=\"_parent\"><img src=\"https://colab.research.google.com/assets/colab-badge.svg\" alt=\"Open In Colab\"/></a>"
      ]
    },
    {
      "cell_type": "markdown",
      "metadata": {
        "id": "uCyb9x5ianf5"
      },
      "source": [
        "# Question1\n",
        "## Use python lists and make an list of numbers. Write a function which returns sum of the list of numbers.\n"
      ]
    },
    {
      "cell_type": "code",
      "metadata": {
        "colab": {
          "base_uri": "https://localhost:8080/"
        },
        "id": "eanjOzsMahP6",
        "outputId": "22022ae5-650a-4bc8-fc83-4ddb15e428e0"
      },
      "source": [
        "# Ans 1:\n",
        "l1 = [4, 5, 7, 8, 89, 50, -2]\n",
        "\n",
        "def sum_of_num(l):\n",
        "  sum = 0\n",
        "  for i in l:\n",
        "    sum += i\n",
        "  return sum\n",
        "\n",
        "sum_of_num(l1)\n"
      ],
      "execution_count": null,
      "outputs": [
        {
          "output_type": "execute_result",
          "data": {
            "text/plain": [
              "161"
            ]
          },
          "metadata": {
            "tags": []
          },
          "execution_count": 14
        }
      ]
    },
    {
      "cell_type": "markdown",
      "metadata": {
        "id": "mL-xR4byazSy"
      },
      "source": [
        "# Question2 \n",
        "## Setup a dict structure like this in python. <br> Dict1: (this is a key, value pair of user id and username) <br> {“1” : “name1”,“2” : “name2”,“3” : “name3”} <br> Dict2: (this is a key value pair of user id and exam score) <br> {“1” : 50, “2” : 60, “3” : 70} <br> These are just sample data assume there are hundreds of users. Write a function in python, which will return maximum i.e function should return dictionary like <br> {“3” : 70}\n"
      ]
    },
    {
      "cell_type": "code",
      "metadata": {
        "colab": {
          "base_uri": "https://localhost:8080/"
        },
        "id": "ggRwaDnHbsOL",
        "outputId": "b83c1aeb-a4dd-475e-c85d-8b020ade1c99"
      },
      "source": [
        "# Ans 2:\n",
        "d1 = {\"1\": \"name1\", \"2\": \"name2\", \"3\": \"name3\", \"4\": \"name4\", \"5\": \"name5\"}\n",
        "\n",
        "d2 = {\"1\": 100, \"2\": 60, \"3\": 70, \"4\": 930, \"5\": 300}\n",
        "\n",
        "def max_score(d):\n",
        "  out = {}\n",
        "  k = max(d, key=d.get)\n",
        "  out[k] = d[k]\n",
        "  return out\n",
        "\n",
        "max_score(d2)\n"
      ],
      "execution_count": null,
      "outputs": [
        {
          "output_type": "execute_result",
          "data": {
            "text/plain": [
              "{'4': 930}"
            ]
          },
          "metadata": {
            "tags": []
          },
          "execution_count": 16
        }
      ]
    },
    {
      "cell_type": "markdown",
      "metadata": {
        "id": "5dlJeVOubt8q"
      },
      "source": [
        "# Question 3\n",
        "## Assume we have list like this <br> [0,0,0,1,1,1,0,0,0,1,1,0,1,1,1,1,0,0,1,1]\n",
        "## Basically a list of zero’s and one’s. Write a python function to the number of maximum consecutive  one’s present in the array. <br> E.g output for the above array would be 4\n"
      ]
    },
    {
      "cell_type": "code",
      "metadata": {
        "colab": {
          "base_uri": "https://localhost:8080/"
        },
        "id": "eCz1yurCb5mf",
        "outputId": "aa662396-e363-494e-dce1-6baaf9ab1631"
      },
      "source": [
        "# Ans 3:\n",
        "l1 = [0,0,0,1,1,1,0,0,0,1,1,1,0,0,1,0,1,1,1,1,0,0,1,1,1,1,1,1,1, 0, 1,1,1,1,1,1,1,1,1,1,1,0,1,1,1,0]\n",
        "\n",
        "def max_consecutive_one(l):\n",
        "  global_count = 0\n",
        "  count = 0\n",
        "  if 1 not in l:\n",
        "    return 0\n",
        "  else:\n",
        "    for i in l:\n",
        "      if i == 1:\n",
        "        count += 1\n",
        "      else:\n",
        "        count = 0\n",
        "      if count > global_count:\n",
        "        global_count = count\n",
        "\n",
        "  return global_count\n",
        "\n",
        "max_consecutive_one(l1)"
      ],
      "execution_count": null,
      "outputs": [
        {
          "output_type": "execute_result",
          "data": {
            "text/plain": [
              "11"
            ]
          },
          "metadata": {
            "tags": []
          },
          "execution_count": 39
        }
      ]
    },
    {
      "cell_type": "markdown",
      "metadata": {
        "id": "0NVJ-d_Vb6XJ"
      },
      "source": [
        "# Question 4\n",
        "## Design a mysql database. Requirements are as follows: <br> We have a user entity with columns username, password. Every user can have multiple addresses. Address entity will have column street, pincode, country, state, phone no. So one user can have multiple addresses. \n",
        "## Design a db structure for this using create table sql syntax and submit that.\n",
        "## Next,\n",
        "## Write a route in flask or django GET, POST route to save a user, login a user, add/update address for that user."
      ]
    },
    {
      "cell_type": "code",
      "metadata": {
        "id": "hYp_kbgUcNAe"
      },
      "source": [
        "# Ans 4:\n",
        "# DB Structure\n",
        "CREATE TABLE User (\n",
        "    UserID int NOT NULL,\n",
        "    UserName varchar,\n",
        "    Password varchar,\n",
        "    PRIMARY KEY (UserID)\n",
        ");\n",
        "\n",
        "CREATE TABLE Address (\n",
        "    UserID int NOT NULL,\n",
        "    AddressID int NOT NULL,\n",
        "    Street varchar,\n",
        "    Pincode int,\n",
        "    Country varchar,\n",
        "    State varchar,\n",
        "    PhoneNo int,\n",
        "    PRIMARY KEY (AddressID)\n",
        "    FOREIGN KEY (UserID) REFERENCES User(UserID)\n",
        ");\n",
        "\n",
        "# Flask APP\n",
        "from flask import Flask, request\n",
        "from flask_mysqldb import MySQL\n",
        "app = Flask(__name__)\n",
        "\n",
        "app.config['MYSQL_HOST'] = 'localhost'\n",
        "app.config['MYSQL_USER'] = 'root'\n",
        "app.config['MYSQL_PASSWORD'] = 'root'\n",
        "app.config['MYSQL_DB'] = 'DB'\n",
        "\n",
        "mysql = MySQL(app)\n",
        "\n",
        "\n",
        "@app.route('/add_user', methods=['POST'])\n",
        "def add_user():\n",
        "  user_details = request.get_json()\n",
        "  username = user_details['username']\n",
        "  password = user_details['passwoord']\n",
        "  address = user_details['address']\n",
        "  cur = mysql.connection.cursor()\n",
        "  cur.execute(\"INSERT INTO Users(Username, Password, Address) VALUES ({}, {}, {})\".format(username, password, address))\n",
        "  mysql.connection.commit()\n",
        "  cur.close()\n",
        "  return 'user added successfully.'\n",
        "\n",
        "\n",
        "@app.route('/login', methods=['POST'])\n",
        "def login():\n",
        "   input_data = request.get_json()\n",
        "   username = input_data[\"username\"]\n",
        "   password = input_data[\"password\"]\n",
        "\n",
        "   query = \"select Username, Password from Users where Username = '{}' and Password = '{}'\".format(username, password)\n",
        "   cur.execute(query)\n",
        "   fetched_data = cur.fetchall()\n",
        "\n",
        "   if len(fetched_data) == 1:\n",
        "     return {\"status\": \"True\", \"message\": \"user logged in successfully.\"}\n",
        "    else:\n",
        "      return {\"status\": \"False\"}\n",
        "\n",
        "\n",
        "@app.route('/update_address', methods=['POST'])\n",
        "def update_address():\n",
        "  try:\n",
        "    input_data = request.get_json()\n",
        "    username = input_data[\"username\"]\n",
        "    password = input_data[\"password\"]\n",
        "    address = input_data[\"address\"]\n",
        "    # update address\n",
        "    query = \"UPDATE Users SET Address = '{}' where Username = '{}' and Password = '{}'\".format(address, username, password)\n",
        "    cur.execute(query)\n",
        "    mysql.connection.commit()\n",
        "    cur.close()\n",
        "    return {\"status\": \"True\", \"message\": \"address updated successfully\"}\n",
        "  except Exception:\n",
        "    return {\"status\": \"False\"}\n",
        "\n",
        "\n",
        "if __name__ == '__main__':\n",
        "    app.run()"
      ],
      "execution_count": null,
      "outputs": []
    }
  ]
}